{
 "cells": [
  {
   "cell_type": "markdown",
   "metadata": {},
   "source": [
    "# import library"
   ]
  },
  {
   "cell_type": "code",
   "execution_count": 1,
   "metadata": {},
   "outputs": [],
   "source": [
    "import math\n",
    "import time\n",
    "import numpy as np"
   ]
  },
  {
   "cell_type": "markdown",
   "metadata": {},
   "source": [
    "# Initialize variable"
   ]
  },
  {
   "cell_type": "code",
   "execution_count": 2,
   "metadata": {},
   "outputs": [],
   "source": [
    "m = 10\n",
    "n = 10\n",
    "movie_num = 10\n",
    "df = [0 for i in range(10)]\n",
    "movie = ['coco', 'beauty and the beast', 'big sick', 'get out', 'guardians of galaxy', 'hurt locker', ' It', 'LaLa land', 'Walter', 'Logan']\n",
    "coco_data = {}\n",
    "beauty_and_the_beast_data = {}\n",
    "big_sick_data = {}\n",
    "get_out_data = {}\n",
    "guardians_of_galaxy_data = {}\n",
    "hurt_locker_data = {}\n",
    "it_data ={}\n",
    "lala_land_data ={}\n",
    "walter_data = {}\n",
    "logan_data = {}\n",
    "\n",
    "weight = [[0 for cols in range(m)]for rows in range(n)] # mxn lis\n",
    "movie_index = 0"
   ]
  },
  {
   "cell_type": "markdown",
   "metadata": {},
   "source": [
    "# data into dictionary"
   ]
  },
  {
   "cell_type": "code",
   "execution_count": 3,
   "metadata": {},
   "outputs": [],
   "source": [
    "def data_into_dic(temp_data, data, movie_index):\n",
    "    max = 0\n",
    "    temp_data_value = np.empty( len(temp_data) )\n",
    "    temp_data_word = [0 for _ in range(len(temp_data))]\n",
    "    \n",
    "    # indexing된 정보 dic 자료구조에 담기\n",
    "    i=0\n",
    "    for line in temp_data:\n",
    "        temp = line.split('\\t')\n",
    "        temp[1] = temp[1].replace('\\n', '')\n",
    "        data[temp[0]] = int(temp[1])\n",
    "        \n",
    "        temp_data_word[i] = temp[0]\n",
    "        temp_data_value[i] = int(temp[1])\n",
    "        \n",
    "        # 가장 많이 나온 단어의 개수 저장\n",
    "        if max < int(temp[1]):\n",
    "            max = int(temp[1])\n",
    "        i += 1\n",
    "    \n",
    "    cal_tf(data, max, movie_index)"
   ]
  },
  {
   "cell_type": "markdown",
   "metadata": {},
   "source": [
    "# calculate tf value"
   ]
  },
  {
   "cell_type": "code",
   "execution_count": 14,
   "metadata": {},
   "outputs": [],
   "source": [
    "def cal_tf(data, max, movie_index):\n",
    "    global df\n",
    "    index = 0\n",
    "    print(\"-------------------------hello------------------\")\n",
    "    for query in query_data:\n",
    "        key_list = list(data.keys())\n",
    "        for k in key_list:\n",
    "            if query == k:\n",
    "                weight[index][movie_index] = round(data[k] / max, 4)\n",
    "                df[index] += 1\n",
    "        index += 1"
   ]
  },
  {
   "cell_type": "markdown",
   "metadata": {},
   "source": [
    "# calculate tf-idf value"
   ]
  },
  {
   "cell_type": "code",
   "execution_count": 5,
   "metadata": {},
   "outputs": [],
   "source": [
    "def cal_tf_idf(query_length, weight, df):\n",
    "    # calculate tf-idf\n",
    "    for i in range(10):\n",
    "        for num in range(query_length):\n",
    "            weight[num][i] *= math.log(movie_num/ (1 + df[num] ),2)\n",
    "    \n",
    "    return weight"
   ]
  },
  {
   "cell_type": "markdown",
   "metadata": {},
   "source": [
    "# Ascending movie"
   ]
  },
  {
   "cell_type": "code",
   "execution_count": 6,
   "metadata": {},
   "outputs": [],
   "source": [
    "def ascending_movie(movie, rank_sum):\n",
    "    for i in range(movie_num):\n",
    "        for j in range(movie_num - 1):\n",
    "            if rank_sum[j] > rank_sum[j+1]:\n",
    "                temp = rank_sum[j]\n",
    "                rank_sum[j] = rank_sum[j+1]\n",
    "                rank_sum[j+1] = temp\n",
    "\n",
    "                temp = movie[j]\n",
    "                movie[j] = movie[j+1]\n",
    "                movie[j+1] = temp\n",
    "    return movie"
   ]
  },
  {
   "cell_type": "markdown",
   "metadata": {},
   "source": [
    "# print movie list"
   ]
  },
  {
   "cell_type": "code",
   "execution_count": 7,
   "metadata": {},
   "outputs": [],
   "source": [
    "def print_ranking():\n",
    "    # print ranking\n",
    "    print(\"------------document Ranking---------------\")\n",
    "    for i in range(movie_num):\n",
    "        print(str(i+1) + '. ' + movie[movie_num - 1 -i])"
   ]
  },
  {
   "cell_type": "markdown",
   "metadata": {},
   "source": [
    "# All movie data file close"
   ]
  },
  {
   "cell_type": "code",
   "execution_count": 8,
   "metadata": {},
   "outputs": [],
   "source": [
    "def all_file_close():\n",
    "    coco_file.close()\n",
    "    beauty_and_the_beast_file.close()\n",
    "    big_sick_file.close()\n",
    "    get_out_file.close()\n",
    "    guardians_of_galaxy_file.close()\n",
    "    hurt_locker_file.close()\n",
    "    it_file.close()\n",
    "    lala_land_file.close()\n",
    "    walter_file.close()\n",
    "    logan_file.close()"
   ]
  },
  {
   "cell_type": "markdown",
   "metadata": {},
   "source": [
    "# Open movie script file"
   ]
  },
  {
   "cell_type": "code",
   "execution_count": 9,
   "metadata": {},
   "outputs": [],
   "source": [
    "# file open\n",
    "coco_file = open(\"./script data/Coco_data.txt\", \"r\")\n",
    "beauty_and_the_beast_file = open(\"./script data/BeautyAndTheBeast_data.txt\", \"r\")\n",
    "big_sick_file = open(\"./script data/BigSick_data.txt\", \"r\")\n",
    "get_out_file = open(\"./script data/GetOut_data.txt\", \"r\")\n",
    "guardians_of_galaxy_file = open(\"./script data/GuardiansGalaxy_data.txt\", \"r\")\n",
    "hurt_locker_file = open(\"./script data/HurtLocker_data.txt\", \"r\")\n",
    "it_file = open(\"./script data/It_data.txt\", \"r\")\n",
    "lala_land_file = open(\"./script data/LaLa_data.txt\", \"r\")\n",
    "walter_file = open(\"./script data/Walter_data.txt\", \"r\")\n",
    "logan_file = open(\"./script data/Logan_data.txt\", \"r\")"
   ]
  },
  {
   "cell_type": "markdown",
   "metadata": {},
   "source": [
    "# Read movie script data"
   ]
  },
  {
   "cell_type": "code",
   "execution_count": 10,
   "metadata": {},
   "outputs": [],
   "source": [
    "coco_temp = coco_file.readlines()\n",
    "beauty_and_the_beast_temp = beauty_and_the_beast_file.readlines()\n",
    "big_sick_temp = big_sick_file.readlines()\n",
    "get_out_temp = get_out_file.readlines()\n",
    "guardians_of_galaxy_temp = guardians_of_galaxy_file.readlines()\n",
    "hurt_locker_temp = hurt_locker_file.readlines()\n",
    "it_temp = it_file.readlines()\n",
    "lala_land_temp = lala_land_file.readlines()\n",
    "walter_temp = walter_file.readlines()\n",
    "logan_temp = logan_file.readlines()\n",
    "\n",
    "\n",
    "# 1 line remove\n",
    "coco_temp = coco_temp[1:]\n",
    "beauty_and_the_beast_temp = beauty_and_the_beast_temp[1:]\n",
    "big_sick_temp = big_sick_temp[1:]\n",
    "get_out_temp = get_out_temp[1:]\n",
    "guardians_of_galaxy_temp = guardians_of_galaxy_temp[1:]\n",
    "hurt_locker_temp = hurt_locker_temp[1:]\n",
    "it_temp = it_temp[1:]\n",
    "lala_land_temp = lala_land_temp[1:]\n",
    "walter_temp = walter_temp[1:]\n",
    "logan_temp = logan_temp[1:]"
   ]
  },
  {
   "cell_type": "markdown",
   "metadata": {},
   "source": [
    "# word data into dictionary each movie"
   ]
  },
  {
   "cell_type": "code",
   "execution_count": 11,
   "metadata": {},
   "outputs": [],
   "source": [
    "def read_all_movie_data():\n",
    "    # calculate tf\n",
    "    data_into_dic(coco_temp, coco_data, 0)\n",
    "    data_into_dic(beauty_and_the_beast_temp, beauty_and_the_beast_data, 1)\n",
    "    data_into_dic(big_sick_temp, big_sick_data, 2)\n",
    "    data_into_dic(get_out_temp, get_out_data, 3)\n",
    "    data_into_dic(guardians_of_galaxy_temp, guardians_of_galaxy_data, 4)\n",
    "    data_into_dic(hurt_locker_temp, hurt_locker_data, 5)\n",
    "    data_into_dic(it_temp, it_data, 6)\n",
    "    data_into_dic(lala_land_temp, lala_land_data, 7)\n",
    "    data_into_dic(walter_temp, walter_data, 8)\n",
    "    data_into_dic(logan_temp, logan_data, 9)"
   ]
  },
  {
   "cell_type": "markdown",
   "metadata": {},
   "source": [
    "# revise word indexing data"
   ]
  },
  {
   "cell_type": "code",
   "execution_count": 12,
   "metadata": {},
   "outputs": [],
   "source": [
    "def revise_movie_word_data():\n",
    "    temp = coco_data.copy()\n",
    "    keys = temp.keys()\n",
    "    \n",
    "    # 큰 따옴표가 들어간 단어 지우기\n",
    "    for key in keys:\n",
    "        single_quote_index = key.find(\"'\")\n",
    "        double_quote_index = key.find('\"')\n",
    "        \n",
    "        print(coco_data)\n",
    "        if single_quote_index == -1:\n",
    "            temp_value = coco_data[key]\n",
    "            length = len(coco_data[key])\n",
    "            coco_data[key] = temp_value[0:double_quote_index] + temp_value[double_quote_index:length]\n",
    "        if double_quote_index != -1:\n",
    "            temp_value = coco_data[key]\n",
    "            length = len(coco_data[key])\n",
    "            coco_data[key] = temp_value[0:double_quote_index] + temp_value[double_quote_index:length]"
   ]
  },
  {
   "cell_type": "markdown",
   "metadata": {},
   "source": [
    "# Rank script"
   ]
  },
  {
   "cell_type": "code",
   "execution_count": 13,
   "metadata": {
    "scrolled": true
   },
   "outputs": [
    {
     "name": "stdout",
     "output_type": "stream",
     "text": [
      "-------------------------hello------------------\n",
      "[[0, 0, 0, 0, 0, 0, 0, 0, 0, 0], [0, 0, 0, 0, 0, 0, 0, 0, 0, 0], [0, 0, 0, 0, 0, 0, 0, 0, 0, 0], [0, 0, 0, 0, 0, 0, 0, 0, 0, 0], [0, 0, 0, 0, 0, 0, 0, 0, 0, 0], [0, 0, 0, 0, 0, 0, 0, 0, 0, 0], [0, 0, 0, 0, 0, 0, 0, 0, 0, 0], [0, 0, 0, 0, 0, 0, 0, 0, 0, 0], [0, 0, 0, 0, 0, 0, 0, 0, 0, 0], [0, 0, 0, 0, 0, 0, 0, 0, 0, 0]]\n",
      "-------------------------hello------------------\n",
      "[[0, 0, 0, 0, 0, 0, 0, 0, 0, 0], [0, 0, 0, 0, 0, 0, 0, 0, 0, 0], [0, 0, 0, 0, 0, 0, 0, 0, 0, 0], [0, 0, 0, 0, 0, 0, 0, 0, 0, 0], [0, 0, 0, 0, 0, 0, 0, 0, 0, 0], [0, 0, 0, 0, 0, 0, 0, 0, 0, 0], [0, 0, 0, 0, 0, 0, 0, 0, 0, 0], [0, 0, 0, 0, 0, 0, 0, 0, 0, 0], [0, 0, 0, 0, 0, 0, 0, 0, 0, 0], [0, 0, 0, 0, 0, 0, 0, 0, 0, 0]]\n",
      "-------------------------hello------------------\n",
      "[[0, 0, 0, 0, 0, 0, 0, 0, 0, 0], [0, 0, 0, 0, 0, 0, 0, 0, 0, 0], [0, 0, 0, 0, 0, 0, 0, 0, 0, 0], [0, 0, 0, 0, 0, 0, 0, 0, 0, 0], [0, 0, 0, 0, 0, 0, 0, 0, 0, 0], [0, 0, 0, 0, 0, 0, 0, 0, 0, 0], [0, 0, 0, 0, 0, 0, 0, 0, 0, 0], [0, 0, 0, 0, 0, 0, 0, 0, 0, 0], [0, 0, 0, 0, 0, 0, 0, 0, 0, 0], [0, 0, 0, 0, 0, 0, 0, 0, 0, 0]]\n",
      "-------------------------hello------------------\n",
      "[[0, 0, 0, 0.0367, 0, 0, 0, 0, 0, 0], [0, 0, 0, 0, 0, 0, 0, 0, 0, 0], [0, 0, 0, 0, 0, 0, 0, 0, 0, 0], [0, 0, 0, 0, 0, 0, 0, 0, 0, 0], [0, 0, 0, 0, 0, 0, 0, 0, 0, 0], [0, 0, 0, 0, 0, 0, 0, 0, 0, 0], [0, 0, 0, 0, 0, 0, 0, 0, 0, 0], [0, 0, 0, 0, 0, 0, 0, 0, 0, 0], [0, 0, 0, 0, 0, 0, 0, 0, 0, 0], [0, 0, 0, 0, 0, 0, 0, 0, 0, 0]]\n",
      "-------------------------hello------------------\n",
      "[[0, 0, 0, 0.0367, 0, 0, 0, 0, 0, 0], [0, 0, 0, 0, 0, 0, 0, 0, 0, 0], [0, 0, 0, 0, 0, 0, 0, 0, 0, 0], [0, 0, 0, 0, 0, 0, 0, 0, 0, 0], [0, 0, 0, 0, 0, 0, 0, 0, 0, 0], [0, 0, 0, 0, 0, 0, 0, 0, 0, 0], [0, 0, 0, 0, 0, 0, 0, 0, 0, 0], [0, 0, 0, 0, 0, 0, 0, 0, 0, 0], [0, 0, 0, 0, 0, 0, 0, 0, 0, 0], [0, 0, 0, 0, 0, 0, 0, 0, 0, 0]]\n",
      "-------------------------hello------------------\n",
      "[[0, 0, 0, 0.0367, 0, 0, 0, 0, 0, 0], [0, 0, 0, 0, 0, 0, 0, 0, 0, 0], [0, 0, 0, 0, 0, 0, 0, 0, 0, 0], [0, 0, 0, 0, 0, 0, 0, 0, 0, 0], [0, 0, 0, 0, 0, 0, 0, 0, 0, 0], [0, 0, 0, 0, 0, 0, 0, 0, 0, 0], [0, 0, 0, 0, 0, 0, 0, 0, 0, 0], [0, 0, 0, 0, 0, 0, 0, 0, 0, 0], [0, 0, 0, 0, 0, 0, 0, 0, 0, 0], [0, 0, 0, 0, 0, 0, 0, 0, 0, 0]]\n",
      "-------------------------hello------------------\n",
      "[[0, 0, 0, 0.0367, 0, 0, 0, 0, 0, 0], [0, 0, 0, 0, 0, 0, 0, 0, 0, 0], [0, 0, 0, 0, 0, 0, 0, 0, 0, 0], [0, 0, 0, 0, 0, 0, 0, 0, 0, 0], [0, 0, 0, 0, 0, 0, 0, 0, 0, 0], [0, 0, 0, 0, 0, 0, 0, 0, 0, 0], [0, 0, 0, 0, 0, 0, 0, 0, 0, 0], [0, 0, 0, 0, 0, 0, 0, 0, 0, 0], [0, 0, 0, 0, 0, 0, 0, 0, 0, 0], [0, 0, 0, 0, 0, 0, 0, 0, 0, 0]]\n",
      "-------------------------hello------------------\n",
      "[[0, 0, 0, 0.0367, 0, 0, 0, 0, 0, 0], [0, 0, 0, 0, 0, 0, 0, 0, 0, 0], [0, 0, 0, 0, 0, 0, 0, 0, 0, 0], [0, 0, 0, 0, 0, 0, 0, 0, 0, 0], [0, 0, 0, 0, 0, 0, 0, 0, 0, 0], [0, 0, 0, 0, 0, 0, 0, 0, 0, 0], [0, 0, 0, 0, 0, 0, 0, 0, 0, 0], [0, 0, 0, 0, 0, 0, 0, 0, 0, 0], [0, 0, 0, 0, 0, 0, 0, 0, 0, 0], [0, 0, 0, 0, 0, 0, 0, 0, 0, 0]]\n",
      "-------------------------hello------------------\n",
      "[[0, 0, 0, 0.0367, 0, 0, 0, 0, 0.374, 0], [0, 0, 0, 0, 0, 0, 0, 0, 0, 0], [0, 0, 0, 0, 0, 0, 0, 0, 0, 0], [0, 0, 0, 0, 0, 0, 0, 0, 0, 0], [0, 0, 0, 0, 0, 0, 0, 0, 0, 0], [0, 0, 0, 0, 0, 0, 0, 0, 0, 0], [0, 0, 0, 0, 0, 0, 0, 0, 0, 0], [0, 0, 0, 0, 0, 0, 0, 0, 0, 0], [0, 0, 0, 0, 0, 0, 0, 0, 0, 0], [0, 0, 0, 0, 0, 0, 0, 0, 0, 0]]\n",
      "-------------------------hello------------------\n",
      "[[0, 0, 0, 0.0367, 0, 0, 0, 0, 0.374, 0], [0, 0, 0, 0, 0, 0, 0, 0, 0, 0], [0, 0, 0, 0, 0, 0, 0, 0, 0, 0], [0, 0, 0, 0, 0, 0, 0, 0, 0, 0], [0, 0, 0, 0, 0, 0, 0, 0, 0, 0], [0, 0, 0, 0, 0, 0, 0, 0, 0, 0], [0, 0, 0, 0, 0, 0, 0, 0, 0, 0], [0, 0, 0, 0, 0, 0, 0, 0, 0, 0], [0, 0, 0, 0, 0, 0, 0, 0, 0, 0], [0, 0, 0, 0, 0, 0, 0, 0, 0, 0]]\n",
      "------------document Ranking---------------\n",
      "1. Walter\n",
      "2. get out\n",
      "3. Logan\n",
      "4. LaLa land\n",
      "5.  It\n",
      "6. hurt locker\n",
      "7. guardians of galaxy\n",
      "8. big sick\n",
      "9. beauty and the beast\n",
      "10. coco\n",
      "--- 0.04679298400878906 seconds ---\n"
     ]
    }
   ],
   "source": [
    "start_time = time.time()\n",
    "\n",
    "query = \"walter\"\n",
    "query_data = query.split(' ')\n",
    "\n",
    "read_all_movie_data()\n",
    "#revise_movie_word_data()\n",
    "\n",
    "# calculate tf-idf value\n",
    "weight = cal_tf_idf(len(query_data), weight, df)\n",
    "\n",
    "# query의 tf-idf 합 구하기\n",
    "rank_sum = [0 for i in range(movie_num)]\n",
    "for row in weight:\n",
    "    index = 0\n",
    "    for num in row:\n",
    "        rank_sum[index] += num\n",
    "        index += 1\n",
    "\n",
    "\n",
    "movie = ascending_movie(movie, rank_sum)\n",
    "\n",
    "print_ranking()\n",
    "\n",
    "print('--- %s seconds ---' %((time.time() - start_time)))\n",
    "all_file_close()"
   ]
  }
 ],
 "metadata": {
  "kernelspec": {
   "display_name": "Python 3",
   "language": "python",
   "name": "python3"
  },
  "language_info": {
   "codemirror_mode": {
    "name": "ipython",
    "version": 3
   },
   "file_extension": ".py",
   "mimetype": "text/x-python",
   "name": "python",
   "nbconvert_exporter": "python",
   "pygments_lexer": "ipython3",
   "version": "3.7.1"
  }
 },
 "nbformat": 4,
 "nbformat_minor": 2
}
